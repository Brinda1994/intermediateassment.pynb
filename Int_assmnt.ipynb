{
  "nbformat": 4,
  "nbformat_minor": 0,
  "metadata": {
    "colab": {
      "provenance": [],
      "authorship_tag": "ABX9TyMrdSh0ouSlhKVonkit05Nk",
      "include_colab_link": true
    },
    "kernelspec": {
      "name": "python3",
      "display_name": "Python 3"
    },
    "language_info": {
      "name": "python"
    }
  },
  "cells": [
    {
      "cell_type": "markdown",
      "metadata": {
        "id": "view-in-github",
        "colab_type": "text"
      },
      "source": [
        "<a href=\"https://colab.research.google.com/github/Brinda1994/intermediateassment.pynb/blob/main/Int_assmnt.ipynb\" target=\"_parent\"><img src=\"https://colab.research.google.com/assets/colab-badge.svg\" alt=\"Open In Colab\"/></a>"
      ]
    },
    {
      "cell_type": "code",
      "source": [
        "#1.Write a python program to check if the entered string is palindrome or not. Get the input string from user (A palindrome is a word, phrase,number, or sequence of characters that reads the same backward asforward)\n",
        "def is_palindrome(string):\n",
        "  return string == string[::-1]\n",
        "\n",
        "string = input(\"Enter a string: \")\n",
        "\n",
        "if string == string[::-1]:\n",
        "    print(\"The string is a palindrome\")\n",
        "else:\n",
        "    print(\"Not a palindrome\")"
      ],
      "metadata": {
        "colab": {
          "base_uri": "https://localhost:8080/"
        },
        "id": "YKGlbVPpMghx",
        "outputId": "aad31723-3955-4ace-c42d-5a6c2151d428"
      },
      "execution_count": 17,
      "outputs": [
        {
          "output_type": "stream",
          "name": "stdout",
          "text": [
            "Enter a string: malayalam\n",
            "The string is a palindrome\n"
          ]
        }
      ]
    },
    {
      "cell_type": "code",
      "source": [
        "#2.Write a python program to check if the given number is divisible by 9\n",
        "num = int(input(\"Enter a number: \"))\n",
        "if int(num)%9==0:\n",
        "  print(\"Yes\")\n",
        "else:\n",
        "  print(\"No\")\n",
        ""
      ],
      "metadata": {
        "colab": {
          "base_uri": "https://localhost:8080/"
        },
        "id": "8jD4cbIxPhyq",
        "outputId": "ec5fdb04-6e9c-484c-e30d-0d771eacc11d"
      },
      "execution_count": 6,
      "outputs": [
        {
          "output_type": "stream",
          "name": "stdout",
          "text": [
            "Enter a number: 1005\n",
            "No\n"
          ]
        }
      ]
    },
    {
      "cell_type": "code",
      "source": [
        "#3.Write a python program to print odd numbers between 300 and 500\n",
        "def print_odd_numbers():\n",
        "    for num in range(301, 500, 2):\n",
        "        print(num, end=\" \")\n",
        "print_odd_numbers()\n"
      ],
      "metadata": {
        "colab": {
          "base_uri": "https://localhost:8080/"
        },
        "id": "wUYskFvxSmKa",
        "outputId": "d0c2049e-876e-473b-f3a7-d24c7e9f3910"
      },
      "execution_count": 8,
      "outputs": [
        {
          "output_type": "stream",
          "name": "stdout",
          "text": [
            "301 303 305 307 309 311 313 315 317 319 321 323 325 327 329 331 333 335 337 339 341 343 345 347 349 351 353 355 357 359 361 363 365 367 369 371 373 375 377 379 381 383 385 387 389 391 393 395 397 399 401 403 405 407 409 411 413 415 417 419 421 423 425 427 429 431 433 435 437 439 441 443 445 447 449 451 453 455 457 459 461 463 465 467 469 471 473 475 477 479 481 483 485 487 489 491 493 495 497 499 "
          ]
        }
      ]
    },
    {
      "cell_type": "code",
      "source": [
        "#4. Get two numbers from user and print their sum, difference, product and quotient after division\n",
        "\n",
        "a = float(input(\"Enter the first number: \"))\n",
        "b = float(input(\"Enter the second number: \"))\n",
        "\n",
        "sum = a + b\n",
        "difference = a - b\n",
        "product = a * b\n",
        "\n",
        "if a != 0:\n",
        "    quotient = a / b\n",
        "else:\n",
        "    quotient = \"undefined (cannot divide by zero)\"\n",
        "\n",
        "\n",
        "print(f\"Sum: {sum}\")\n",
        "print(f\"Difference: {difference}\")\n",
        "print(f\"Product: {product}\")\n",
        "print(f\"Quotient: {quotient}\")"
      ],
      "metadata": {
        "colab": {
          "base_uri": "https://localhost:8080/"
        },
        "id": "s_Dn5IcSVdAy",
        "outputId": "a545baa7-62bf-4946-b7d5-47f12f4662d3"
      },
      "execution_count": 9,
      "outputs": [
        {
          "output_type": "stream",
          "name": "stdout",
          "text": [
            "Enter the first number: 60\n",
            "Enter the second number: 108\n",
            "Sum: 168.0\n",
            "Difference: -48.0\n",
            "Product: 6480.0\n",
            "Quotient: 0.5555555555555556\n"
          ]
        }
      ]
    },
    {
      "cell_type": "code",
      "source": [
        "#5 Write a python function to find the product of 2 numbers.\n",
        "\n",
        "def multiply_numbers():\n",
        "    a = float(input(\"Enter the first number: \"))\n",
        "    b = float(input(\"Enter the second number: \"))\n",
        "    product = a * b\n",
        "    print(f\"Product of {a} and {b} is {product}\")\n",
        "multiply_numbers()\n",
        ""
      ],
      "metadata": {
        "colab": {
          "base_uri": "https://localhost:8080/"
        },
        "id": "rmdoPqcdW45k",
        "outputId": "9cc47241-47c0-4ad7-c1d6-da2893bb76f4"
      },
      "execution_count": 16,
      "outputs": [
        {
          "output_type": "stream",
          "name": "stdout",
          "text": [
            "Enter the first number: 24.31\n",
            "Enter the second number: 94.25\n",
            "Product of 24.31 and 94.25 is 2291.2174999999997\n"
          ]
        }
      ]
    }
  ]
}